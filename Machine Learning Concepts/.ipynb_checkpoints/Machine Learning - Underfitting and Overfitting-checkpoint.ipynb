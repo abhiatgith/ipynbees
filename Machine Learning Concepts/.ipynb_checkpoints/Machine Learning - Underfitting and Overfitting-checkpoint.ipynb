{
 "cells": [
  {
   "cell_type": "markdown",
   "metadata": {},
   "source": [
    "# Underfitting and Overfitting:"
   ]
  },
  {
   "cell_type": "markdown",
   "metadata": {},
   "source": [
    "## Underfitting or High-Bias:"
   ]
  },
  {
   "cell_type": "markdown",
   "metadata": {},
   "source": [
    "### What is underfitting or a model with high bias?\n",
    "\n",
    "- Errors that occur due to Simplifying assumption is called bias errors/ also called underfitting. A model with high bias is called an underfitted model.\n",
    "- To avoid high bias, you should not underfit the model\n",
    "- If a model's training error and test error is high, then your model has high bias.\n",
    "- High bias means that the model being used is not robust enough to produce an accurate prediction."
   ]
  },
  {
   "cell_type": "markdown",
   "metadata": {},
   "source": [
    "### What are the effects of a underfitted/high bias model?\n",
    "\n",
    "- Does not fit the training data very well or does not perform well on training data itself\n",
    "- model is biased or the model/learning algorithm has a preconception about the relationship of the input and output variables due to which the model will not fit the training data well\n",
    "- Predicted results are inclined towards a specific outcome\n"
   ]
  },
  {
   "cell_type": "markdown",
   "metadata": {},
   "source": [
    "### How can we remove underfitting/ high bias in a model or what are the remedies?\n",
    "\n",
    "- Use more complex model (e.g. kernelize, use non-linear models)\n",
    "- Add more features if possible\n",
    "- Boosting"
   ]
  },
  {
   "cell_type": "markdown",
   "metadata": {},
   "source": [
    " ***********************************************************"
   ]
  },
  {
   "cell_type": "markdown",
   "metadata": {},
   "source": [
    "## Overfitting or High-variance:"
   ]
  },
  {
   "cell_type": "markdown",
   "metadata": {},
   "source": [
    "### What is overfitting or a model with high variance?\n",
    "\n",
    "- This situation where any given model is performing too well on the training data but the performance drops significantly over the test set is called an overfitting model.\n",
    "- Variance of a model is defined by how much a model changes when the training data changes\n",
    "- If the model changes/varies a lot (large changes) even when small changes are made in the training dataset, then the model is set to have high variance \n",
    "- Small changes in training data results in large changes (very different models) in the model means the model has high variance or the model is overfitted\n",
    "- To avoid high variance in the model, you should not overfit\n",
    "- If test error is high but training error is low, then you model has high variance because your model is overfitted to the training data\n",
    "- When the results of the model prediction have a high degree of variance, it is referred to as an overfitting model."
   ]
  },
  {
   "cell_type": "markdown",
   "metadata": {},
   "source": [
    "### What is the cause for overfitting?\n",
    "\n",
    "- Multicollinearity or correlation (relationship among input variables)\n",
    "- Too many input variables/features and less training data\n"
   ]
  },
  {
   "cell_type": "markdown",
   "metadata": {},
   "source": [
    "### What are the effects of a overfitted/high variance model?\n",
    "\n",
    "- Overfitted model or a high variance which performs well on training data only but not on real data or unseen data\n",
    "- Predicted results have a high degree of spread or high variance\n",
    "- Small change in predictors (parameters) have a big effect in the value of the output/target variable\n"
   ]
  },
  {
   "cell_type": "markdown",
   "metadata": {},
   "source": [
    "### How can we detect overfitting?\n",
    "\n",
    "-\tUse Pair plots – If number of input variables are small\n",
    "-\tUse Pearson correlation (Heat map) – if number of input variables are moderate\n",
    "-\tVIF (Variance inflation factor) – measures change in variance inflation. If VIF > 5, there is assumption that there is a presence of correlation"
   ]
  },
  {
   "cell_type": "markdown",
   "metadata": {},
   "source": [
    "### How can we remove overfitting/high variance in a model?\n",
    "\n",
    "-\tDo nothing\n",
    "-\tDelete one column (dummy variable trap)\n",
    "-\tCreate a combined column\n",
    "-\tPCA – Principal component analysis\n",
    "-\tReduce number of features – using feature selection\n",
    "-\tRegularization\n",
    "-\tAdd more training data\n",
    "-\tReduce model complexity -- complex models are prone to high variance\n",
    "-\tBagging"
   ]
  },
  {
   "cell_type": "markdown",
   "metadata": {},
   "source": [
    "### Regularization\n",
    "\n",
    "Regularization is the method of reducing overfitting of the model by reducing the magnitude or the values of the parameters/coefficients (For example the m and c in the linear regression equation) of the input variables/features by introducing a penalty for the parameters. The amount of penalty is based on how high the value to the parameters are, the higher the value of the parameter higher the penalty.  This is done by introducing a regularization parameter (lambda) for the parameters (m and c) specifically as part of the cost function to be minimized by the learning algorithm or machine learning algorithm.\n",
    "\n",
    "- Types of Regularization: Lasso, Ridge and Elastic Net"
   ]
  },
  {
   "cell_type": "markdown",
   "metadata": {},
   "source": [
    "### General Notes:\n",
    "- Understanding bias and variance from the iris decision tree data set:\n",
    "https://scikit-learn.org/stable/auto_examples/tree/plot_iris_dtc.html\n",
    "- There are tools to understand when underfitting or overfitting might be occurring"
   ]
  }
 ],
 "metadata": {
  "kernelspec": {
   "display_name": "Python 3",
   "language": "python",
   "name": "python3"
  },
  "language_info": {
   "codemirror_mode": {
    "name": "ipython",
    "version": 3
   },
   "file_extension": ".py",
   "mimetype": "text/x-python",
   "name": "python",
   "nbconvert_exporter": "python",
   "pygments_lexer": "ipython3",
   "version": "3.7.4"
  }
 },
 "nbformat": 4,
 "nbformat_minor": 2
}
