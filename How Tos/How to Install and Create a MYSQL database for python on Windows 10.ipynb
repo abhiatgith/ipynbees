{
 "cells": [
  {
   "cell_type": "markdown",
   "metadata": {},
   "source": [
    "# How to Install a local MYSQL database for python on Windows 10?"
   ]
  },
  {
   "cell_type": "markdown",
   "metadata": {},
   "source": [
    "## Pre-requisites:\n",
    "\n",
    "For installing a local MYSQL Database and use it with your python programs, you need to follow the below steps. There are some pre-requisite softwares that are required before you can install the MYSQL database and MYSQL Workbench on Windows 10.\n",
    "\n",
    "The below video titled 'How to Install MySQL Workbench on Windows 10 (User Interface for MySQL)' explains the installation procedure of mysql workbench: \n",
    "\n",
    "https://www.youtube.com/watch?v=Z0ZcCmt7pd0\n",
    "\n",
    "However, there are some pre-requisite softwares that are needed before you can install mysql workbench on windows 10:\n",
    "\n",
    "Pre-requisites to install MYSQL Workbench: https://dev.mysql.com/doc/workbench/en/wb-requirements.html\n"
   ]
  },
  {
   "cell_type": "markdown",
   "metadata": {},
   "source": [
    "### Install .NET Framework:\n",
    "\n",
    "First, you need to install .NET Framework on your system:\n",
    "https://dotnet.microsoft.com/download/dotnet-framework\n",
    "\n",
    "You may get an alert saying that .NET is already installed on your machine. To check and ensure that you have the appropriate version of .NET Framework installed on your system, use the commands on the below website:\n",
    "\n",
    "https://www.itechtics.com/check-net-framework-version-command-line/\n"
   ]
  },
  {
   "cell_type": "markdown",
   "metadata": {},
   "source": [
    "### Install Visual C++ Redistributable:\n",
    "\n",
    "Second, you need to install ' Microsoft Visual C++ Redistributable for Visual Studio 2019' :\n",
    "https://visualstudio.microsoft.com/downloads/\n",
    "Look for ' Microsoft Visual C++ Redistributable for Visual Studio 2019' under the 'Other tools and Frameworks' section.\n"
   ]
  },
  {
   "cell_type": "markdown",
   "metadata": {},
   "source": [
    "### Install MYSQL Connector for Python:\n",
    "\n",
    "Third, you need to Install the MySQL connector for Python - Python needs a MySQL driver/connector to access the MySQL database. Use PIP to install the MySQL Connector for python from https://pypi.org/project/mysql-connector-python/."
   ]
  },
  {
   "cell_type": "markdown",
   "metadata": {},
   "source": [
    "### Installing MYSQL Server:\n",
    "\n",
    "Finally, now you can install MYSQL Server on your system using the below links:\n",
    "\n",
    "https://dev.mysql.com/doc/refman/8.0/en/windows-installation.html\n",
    "https://dev.mysql.com/downloads/installer/\n",
    "\n",
    "Once you complete these steps, you will be able to open MYSQL Workbench and create a new connection, set a password for the default root user and proceed.\n"
   ]
  },
  {
   "cell_type": "markdown",
   "metadata": {},
   "source": [
    "### Database Commands to create a MYSQL Database, tables and inserting data into the database:\n",
    "\n",
    "Commands to create the database, tables and insert the data into the database:\n",
    "\n",
    "Reference: https://www.w3schools.com/python/python_mysql_getstarted.asp\n",
    "\n",
    "****************************************************************************\n",
    "Creating the Database:\n",
    "\n",
    "import mysql.connector\n",
    "\n",
    "mydb = mysql.connector.connect(\n",
    "  host=\"127.0.0.1\",\n",
    "  user=\"root\",\n",
    "  passwd=\"Abhi_123\"\n",
    ")\n",
    "\n",
    "mycursor = mydb.cursor()\n",
    "\n",
    "mycursor.execute(\"CREATE DATABASE mydatabase\")\n",
    "\n",
    "**************************************************************************\n",
    "\n",
    "To connect to the above database, create a new table and insert data into the table:\n",
    "\n",
    "import mysql.connector\n",
    "\n",
    "mydb = mysql.connector.connect(\n",
    "  host=\"127.0.0.1\",\n",
    "  user=\"root\",\n",
    "  passwd=\"Abhi_123\",\n",
    "  database = \"mydatabase\"\n",
    ")\n",
    "\n",
    "mycursor = mydb.cursor()\n",
    "\n",
    "mycursor.execute(\"create table grades1(id int, name text, score int)\")\n",
    "\n",
    "#To insert new values into the table\n",
    "\n",
    "mycursor.execute(\"insert into grades1(id, name, score) values(101, 'John',99 )\")\n",
    "\n",
    "mycursor.execute(\"insert into grades1(id, name, score) values(102, 'Gary',90 )\")\n",
    "\n",
    "mycursor.execute(\"insert into grades1(id, name, score) values(103, 'James', 80 )\")\n",
    "\n",
    "mycursor.execute(\"insert into grades1(id, name, score) values(104, 'Cathy', 85 )\")\n",
    "\n",
    "mycursor.execute(\"insert into grades1(id, name, score) values(105, 'Kris',95 )\")\n",
    "\n",
    "mydb.commit()\n",
    "\n",
    "*******************************************************************************\n",
    "\n",
    "To insert values accepted from the user into the table, follow the below link:\n",
    "\n",
    "https://www.w3schools.com/python/python_mysql_insert.asp\n",
    "\n",
    "Note: You just need to pass the variables that you used to get the user input instead of the strings in the val variable in the above link.\n",
    "\n",
    "\n",
    "*******************************************************************************\n",
    "\n",
    "\n",
    "\n",
    "\n",
    "\n",
    "\n"
   ]
  }
 ],
 "metadata": {
  "kernelspec": {
   "display_name": "Python 3",
   "language": "python",
   "name": "python3"
  },
  "language_info": {
   "codemirror_mode": {
    "name": "ipython",
    "version": 3
   },
   "file_extension": ".py",
   "mimetype": "text/x-python",
   "name": "python",
   "nbconvert_exporter": "python",
   "pygments_lexer": "ipython3",
   "version": "3.7.4"
  }
 },
 "nbformat": 4,
 "nbformat_minor": 2
}
