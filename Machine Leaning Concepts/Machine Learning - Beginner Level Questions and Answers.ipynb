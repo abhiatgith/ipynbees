{
 "cells": [
  {
   "cell_type": "markdown",
   "metadata": {},
   "source": [
    "### 1) What are the 3 stages to build the hypotheses or model in machine learning?"
   ]
  },
  {
   "cell_type": "markdown",
   "metadata": {},
   "source": [
    "Stage 1: Identify the independent variables and the dependent variable and the relationship that exists between the independent and dependent variable.\n",
    "\n",
    "Stage 2: Identify the machine learning algorithm that can be used for the given scenario in stage 1 depending on the identified relationship between the independent variables and the dependent variable.\n",
    "\n",
    "Stage 3: Run the machine learning algorithm on the training data set to generate the machine learning model. Then run the model on the test data set to calculate and fine tune the model to identify the best fit/optimal values for the parameters of the function that the learning algorithm is solving for achieving the desired accuracy."
   ]
  },
  {
   "cell_type": "markdown",
   "metadata": {},
   "source": [
    "### 2. What is the standard approach to supervised learning? "
   ]
  },
  {
   "cell_type": "markdown",
   "metadata": {},
   "source": [
    "In Supervised learning, the independent variables(input) and the dependent variable(output) are already known. The standard approach is as follows:\n",
    "\n",
    "- Divide the dataset into two sets - Training set and the test set. \n",
    "\n",
    "- Identify and run the Machine learning algorithm on the training data set to get the optimized parameters for the coefficients and constants of the algorithmic function.\n",
    "\n",
    "- Run the algorithm on the test data and check the accuracy of the algorithm on the test data set. \n",
    "\n",
    "- Further optimize the accuracy of the model if required till the desired range is achieved.\n"
   ]
  },
  {
   "cell_type": "markdown",
   "metadata": {},
   "source": [
    "### 3. What is Training set and Test set? "
   ]
  },
  {
   "cell_type": "markdown",
   "metadata": {},
   "source": [
    "The training set is the data set which is used by the Machine learning algorithm to come up with the machine learning model. The test data set is the data set on which the machine learning model that is generated in the training stage is used to evaluate and achieve the required accuracy of the model. "
   ]
  },
  {
   "cell_type": "markdown",
   "metadata": {},
   "source": [
    "### 4. What is the general principle of an ensemble method and what is bagging and boosting in ensemble method? "
   ]
  },
  {
   "cell_type": "markdown",
   "metadata": {},
   "source": [
    "### 5. How can you avoid overfitting?\n",
    "\n",
    "Overfitting can be avoided by removing the correlation between the input variables. Another reason for overfitting is when the independent variables have different scales. This problem can be solved by using the standard scaler function to standardize the data set."
   ]
  },
  {
   "cell_type": "code",
   "execution_count": null,
   "metadata": {},
   "outputs": [],
   "source": []
  }
 ],
 "metadata": {
  "kernelspec": {
   "display_name": "Python 3",
   "language": "python",
   "name": "python3"
  },
  "language_info": {
   "codemirror_mode": {
    "name": "ipython",
    "version": 3
   },
   "file_extension": ".py",
   "mimetype": "text/x-python",
   "name": "python",
   "nbconvert_exporter": "python",
   "pygments_lexer": "ipython3",
   "version": "3.7.4"
  }
 },
 "nbformat": 4,
 "nbformat_minor": 2
}
